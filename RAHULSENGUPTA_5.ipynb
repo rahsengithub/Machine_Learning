{
 "cells": [
  {
   "cell_type": "markdown",
   "metadata": {},
   "source": [
    "# Generalization: Model Validation\n",
    "\n",
    "### 27th October 2015 Neil D. Lawrence"
   ]
  },
  {
   "cell_type": "markdown",
   "metadata": {},
   "source": [
    "If we had to summarise the objectives of machine learning in one word, a very good candidate for that word would be *generalization*. What is generalization? From a human perspective it might be summarised as the ability to take lessons learned in one domain and apply them to another domain. If we accept the definition given in the first session for machine learning, \n",
    "$$\n",
    "\\text{data} + \\text{model} \\xrightarrow{\\text{compute}} \\text{prediction}\n",
    "$$\n",
    "then we see that without a model we can't generalise: we only have data. Data is fine for answering very specific questions, like \"Who won the Olympic Marathon in 2012?\", because we have that answer stored, however, we are not given the answer to many other questions. For example, Alan Turing was a formidable marathon runner, in 1946 he ran a time 2 hours 46 minutes (just under four minutes per kilometer, faster than most of the other [Endcliffe Park Run](http://www.parkrun.org.uk/sheffieldhallam/) runners can do 5 km). What is the probability he would have won an Olympics if one had been held in 1946?  \n",
    "![Alan Turing, Times in the Times](http://www.turing.org.uk/turing/pi2/times2.gif)![Alan Turing running in 1946](http://www.turing.org.uk/turing/pi2/run.jpg)\n",
    "<center>*Alan Turing, in 1946 he was only 11 minutes slower than the winner of the 1948 games. Would he have won a hypothetical games held in 1946? Source: [Alan Turing Internet Scrapbook](http://www.turing.org.uk/scrapbook/run.html).*</center>\n",
    "To answer this question we need to generalize, but before we formalize the concept of generalization let's introduce some formal representation of what it means to generalize in machine learning.\n",
    "\n",
    "### Expected Loss\n",
    "\n",
    "Our objective function so far has been the negative log likelihood, which we have minimized (via the sum of squares error) to obtain our model. However, there is an alternative perspective on an objective function, that of a *loss function*. A loss function is a cost function associated with the penalty you might need to pay for a particular incorrect decision. One approach to machine learning involves specifying a loss function and considering how much a particular model is likely to cost us across its lifetime. We can represent this with an expectation. If our loss function is given as $L(y, x, \\mathbf{w})$ for a particular model that predicts $y$ given $x$ and $\\mathbf{w}$ then we are interested in minimizing the expected loss under the likely distribution of $y$ and $x$. To understand this formally we define the *true* distribution of the data samples, $y$, $x$. This is a very special distribution that we don't have access to very often, and to represent that we define it with a special letter 'P', $\\mathbb{P}(y, x)$. If we genuinely pay $L(y, x, \\mathbf{w})$ for every mistake we make, and the future test data is genuinely drawn from $\\mathbb{P}(y, x)$ then we can define our expected loss, or risk, to be,\n",
    "$$\n",
    "R(\\mathbf{w}) = \\int L(y, x, \\mathbf{w}) \\mathbb{P}(y, x) \\text{d}y \\text{d}x.\n",
    "$$\n",
    "Of course, in practice, this value can't be computed *but* it serves as a reminder of what it is we are aiming to minimize and under certain circumstances it can be approximated.\n",
    "\n",
    "### Sample Based Approximations\n",
    "\n",
    "A sample based approximation to an expectation involves replacing the true expectation with a sum over samples from the distribution. \n",
    "$$\n",
    "\\int f(z) p(z) \\text{d}y \\text{d}z\\approx \\frac{1}{s}\\sum_{i=1}^s f(z_i).\n",
    "$$\n",
    "if $\\{z_i\\}_{i=1}^s$ are a set of $s$ independent and identically distributed samples from the distribution $p(z)$. This approximation becomes better for larger $s$, although the *rate of convergence* to the true integral will be very dependent on the distribution $p(z)$ *and* the function $f(z)$. \n",
    "\n",
    "That said, this means we can approximate our true integral with the sum,\n",
    "$$\n",
    "R(\\mathbf{w}) \\approx \\frac{1}{n}\\sum_{i=1}^n L(y_i, x_i, \\mathbf{w}),\n",
    "$$\n",
    "if $y_i$ and $x_i$ are independent samples from the true distribution $\\mathbb{P}(y, x)$. Minimizing this sum directly is known as *empirical risk minimization*. The sum of squares error we have been using can be recovered for this case by considering a *squared loss*,\n",
    "$$\n",
    "L(y, x, \\mathbf{w}) = (y-\\mathbf{w}^\\top\\boldsymbol{\\phi}(x))^2\n",
    "$$\n",
    "which gives an empirical risk of the form\n",
    "$$\n",
    "R(\\mathbf{w}) \\approx \\frac{1}{n} \\sum_{i=1}^n (y_i - \\mathbf{w}^\\top \\boldsymbol{\\phi}(x_i))^2\n",
    "$$\n",
    "which up to the constant $\\frac{1}{n}$ is identical to the objective function we have been using so far.\n",
    "\n",
    "\n",
    "### Estimating Risk through Validation\n",
    "\n",
    "Unfortunately, minimising the empirial risk only guarantees something about our performance on the training data. If we don't have enough data for the approximation to the risk to be valid, then we can end up performing significantly worse on test data. Fortunately, we can also estimate the risk for test data through estimating the risk for unseen data.\n",
    "\n",
    "The main trick here is to 'hold out' a portion of our data from training and use the models performance on that sub-set of the data as a proxy for the true risk. This data is known as 'validation' data. It contrasts with test data, because it's values are known at the model design time. However, in contrast to test data we don't use it to fit our model. This means that it doesn't exhibit the same bias that the empirical risk does when estimating the true risk.\n",
    "\n",
    "In this lab we will explore techniques for model selection that make use of validation data. Data that isn't seen by the model in the learning (or fitting) phase, but is used to *validate* our choice of model from amongst the different designs we have selected.\n",
    "\n",
    "In machine learning, we are looking to minimise the value of our objective function $E$ with respect to its parameters $\\mathbf{w}$. We do this by considering our training data. We minimize the value of the objective function as it's observed at each training point. However we are really interested in how the model will perform on future data. For evaluating that we choose to *hold out* a portion of the data for evaluating the quality of the model.\n",
    "\n",
    "We will review the different methods of model selection on the Olympics marathon data. Firstly we import the olympics data. "
   ]
  },
  {
   "cell_type": "code",
   "execution_count": 2,
   "metadata": {},
   "outputs": [
    {
     "name": "stdout",
     "output_type": "stream",
     "text": [
      "[[1896.]\n",
      " [1900.]\n",
      " [1904.]\n",
      " [1908.]\n",
      " [1912.]\n",
      " [1920.]\n",
      " [1924.]\n",
      " [1928.]\n",
      " [1932.]\n",
      " [1936.]\n",
      " [1948.]\n",
      " [1952.]\n",
      " [1956.]\n",
      " [1960.]\n",
      " [1964.]\n",
      " [1968.]\n",
      " [1972.]\n",
      " [1976.]\n",
      " [1980.]\n",
      " [1984.]\n",
      " [1988.]\n",
      " [1992.]\n",
      " [1996.]\n",
      " [2000.]\n",
      " [2004.]\n",
      " [2008.]\n",
      " [2012.]]\n",
      "[[4.47083333]\n",
      " [4.46472926]\n",
      " [5.22208333]\n",
      " [4.15467867]\n",
      " [3.90331675]\n",
      " [3.56951267]\n",
      " [3.82454477]\n",
      " [3.62483707]\n",
      " [3.59284275]\n",
      " [3.53880792]\n",
      " [3.67010309]\n",
      " [3.39029111]\n",
      " [3.43642612]\n",
      " [3.20583008]\n",
      " [3.13275665]\n",
      " [3.32819844]\n",
      " [3.13583758]\n",
      " [3.0789588 ]\n",
      " [3.10581823]\n",
      " [3.06552909]\n",
      " [3.09357349]\n",
      " [3.16111704]\n",
      " [3.14255243]\n",
      " [3.08527867]\n",
      " [3.10265829]\n",
      " [2.99877553]\n",
      " [3.03392977]]\n"
     ]
    }
   ],
   "source": [
    "import numpy as np\n",
    "import pods\n",
    "data =pods.datasets.olympic_marathon_men()\n",
    "x = data['X']\n",
    "y = data['Y']\n",
    "print(x)\n",
    "print(y)"
   ]
  },
  {
   "cell_type": "markdown",
   "metadata": {},
   "source": [
    "We can plot them to check that they've loaded in correctly.\n"
   ]
  },
  {
   "cell_type": "code",
   "execution_count": 4,
   "metadata": {},
   "outputs": [
    {
     "data": {
      "text/plain": [
       "[<matplotlib.lines.Line2D at 0x26801982b38>]"
      ]
     },
     "execution_count": 4,
     "metadata": {},
     "output_type": "execute_result"
    },
    {
     "data": {
      "image/png": "[encoded data removed]",
      "text/plain": [
       "<Figure size 432x288 with 1 Axes>"
      ]
     },
     "metadata": {},
     "output_type": "display_data"
    }
   ],
   "source": [
    "%matplotlib inline\n",
    "import pylab as plt\n",
    "plt.plot(x, y, 'rx')"
   ]
  },
  {
   "cell_type": "markdown",
   "metadata": {},
   "source": [
    "## Hold Out Validation\n",
    "\n",
    "The first thing we'll do is fit a standard linear model to the data. We recall from previous lectures and lab classes that to do this we need to solve the system\n",
    "$$\n",
    "\\boldsymbol{\\Phi}^\\top \\boldsymbol{\\Phi} \\mathbf{w} = \\boldsymbol{\\Phi}^\\top \\mathbf{y}\n",
    "$$\n",
    "for $\\mathbf{w}$  and use the resulting vector to make predictions at the training points and test points,\n",
    "$$\n",
    "\\mathbf{f} = \\boldsymbol{\\Phi} \\mathbf{w}.\n",
    "$$\n",
    "The prediction function can be used to compute the objective function,\n",
    "$$\n",
    "E(\\mathbf{w}) = \\sum_{i}^n (y_i - \\mathbf{w}^\\top\\phi(\\mathbf{x}_i))^2\n",
    "$$\n",
    "by substituting in the prediction in vector form we have\n",
    "$$\n",
    "E(\\mathbf{w}) =  (\\mathbf{y} - \\mathbf{f})^\\top(\\mathbf{y} - \\mathbf{f})\n",
    "$$"
   ]
  },
  {
   "cell_type": "markdown",
   "metadata": {},
   "source": [
    "### Assignment Question 1\n",
    "\n",
    "In this question you will construct some flexible general code for fitting linear models.\n",
    "\n",
    "Create a python function that computes $\\boldsymbol{\\Phi}$ for the linear basis,\n",
    "$$\\boldsymbol{\\Phi} = \\begin{bmatrix} \\mathbf{x} & \\mathbf{1}\\end{bmatrix}$$\n",
    "Name your function `linear`. `Phi` should be in the form of a *design matrix* and `x` should be in the form of a `numpy` two dimensional array with $n$ rows and 1 column\n",
    "Calls to your function should be in the following form:\n",
    "\n",
    "```python\n",
    "Phi = linear(x)\n",
    "```\n",
    "\n",
    "Create a python function that accepts, as arguments, a python function that defines a basis (like the one you've just created called `linear`) as well as a set of inputs and a vector of parameters. Your new python function should return a prediction. Name your function `prediction`. The return value `f` should be a two dimensional `numpy` array with $n$ rows and $1$ column, where $n$ is the number of data points. Calls to your function should be in the following form:\n",
    "\n",
    "```python\n",
    "f = prediction(w, x, linear)\n",
    "```\n",
    "\n",
    "Create a python function that computes the sum of squares objective function (or error function). It should accept your input data (or covariates) and target data (or response variables) and your parameter vector `w` as arguments. It should also accept a python function that represents the basis. Calls to your function should be in the following form:\n",
    "\n",
    "```python\n",
    "e = objective(w, x, y, linear)\n",
    "```\n",
    "\n",
    "Create a function that solves the linear system for the set of parameters that minimizes the sum of squares objective. It should accept input data, target data and a python function for the basis as the inputs. Calls to your function should be in the following form:\n",
    "\n",
    "```python\n",
    "w = fit(x, y, linear)\n",
    "```\n",
    "\n",
    "Fit a linear model to the olympic data using these functions and plot the resulting prediction between 1890 and 2020. Set the title of the plot to be the error of the fit on the *training data*.\n",
    "\n",
    "*15 marks*"
   ]
  },
  {
   "cell_type": "code",
   "execution_count": 5,
   "metadata": {},
   "outputs": [
    {
     "data": {
      "image/png": "[encoded data removed]",
      "text/plain": [
       "<Figure size 432x288 with 1 Axes>"
      ]
     },
     "metadata": {},
     "output_type": "display_data"
    }
   ],
   "source": [
    "#### Question 1 Answer Code\n",
    "# Write code for you answer to this question in this box\n",
    "# Do not delete these comments, otherwise you will get zero for this answer.\n",
    "# Make sure your code has run and the answer is correct *before* submitting your notebook for marking.\n",
    "\n",
    "import numpy as np\n",
    "import scipy as sp\n",
    "\n",
    "# defining the 'linear' function \n",
    "def linear(x):\n",
    "    Linear_Func = np.hstack([np.ones((x.shape[0], 1)), x])\n",
    "    return Linear_Func\n",
    "\n",
    "# defining the 'fit' function that solves the linear system\n",
    "def fit(x, y, Linear_Func):\n",
    "    Q, R = np.linalg.qr(Phi)\n",
    "    w = sp.linalg.solve_triangular(R, np.dot(Q.T, y)) \n",
    "    return w\n",
    "\n",
    "#defining the 'objective' function that computes error function for linear basis\n",
    "def objective(w, x, y, Linear_Func):\n",
    "    Y_prediction = np.dot(Phi,w)\n",
    "    error = y - Y_prediction\n",
    "    squared_error = np.square(error).sum()\n",
    "    return squared_error\n",
    "\n",
    "#defining the 'prediction' function for linear basis\n",
    "def prediction(w,x,Linear_Func):\n",
    "    f = np.dot(Phi, w)\n",
    "    return f\n",
    "\n",
    "\n",
    "Phi = linear(x) # calling linear function for linear basis\n",
    "w = fit(x, y, linear) # calling fit function for linear basis\n",
    "f = prediction(w, x, linear) # calling prediction function for linear basis\n",
    "e = objective(w, x, y, linear) # calling objective function for linear basis\n",
    "\n",
    "\n",
    "plt.plot(x, y, 'rx', label = 'Olympic Data')\n",
    "plt.plot(x, f, 'b', label = 'Resulting Prediction')\n",
    "plt.title(\"Error of the fit on Training data\", loc='center')\n",
    "plt.legend()\n",
    "plt.show()\n",
    "    \n"
   ]
  },
  {
   "cell_type": "markdown",
   "metadata": {},
   "source": [
    "## Polynomial Fit: Training Error\n",
    "\n",
    "The next thing we'll do is consider a quadratic fit. We will compute the training error for the two fits.\n"
   ]
  },
  {
   "cell_type": "markdown",
   "metadata": {},
   "source": [
    "### Assignment Question 2\n",
    "\n",
    "In this question we extend the code above to a non-linear basis (a quadratic function).\n",
    "\n",
    "Start by creating a python-function called `quadratic`. It should compute the quadratic basis.\n",
    "$$\\boldsymbol{\\Phi} = \\begin{bmatrix} \\mathbf{1} & \\mathbf{x} & \\mathbf{x}^2\\end{bmatrix}$$\n",
    "It should be called in the following form:\n",
    "```python\n",
    "Phi = quadratic(x)\n",
    "```\n",
    "Use this to compute the quadratic fit for the model, again plotting the result titled by the error.\n",
    "\n",
    "*10 marks*"
   ]
  },
  {
   "cell_type": "code",
   "execution_count": 6,
   "metadata": {},
   "outputs": [
    {
     "data": {
      "image/png": "[encoded data removed]",
      "text/plain": [
       "<Figure size 432x288 with 1 Axes>"
      ]
     },
     "metadata": {},
     "output_type": "display_data"
    }
   ],
   "source": [
    "#### Question 2 Answer Code\n",
    "# Write code for you answer to this question in this box\n",
    "# Do not delete these comments, otherwise you will get zero for this answer.\n",
    "# Make sure your code has run and the answer is correct *before* submitting your notebook for marking.\n",
    "\n",
    "import numpy as np\n",
    "\n",
    "# defining the 'linear' function\n",
    "def quadratic(x):\n",
    "    Quadratic_Func = np.hstack([np.ones((x.shape[0], 1)), x, x**2])\n",
    "    return Quadratic_Func\n",
    "\n",
    "Phi = quadratic(x) # calling linear function for quadratic basis\n",
    "w = fit(x, y, quadratic) # calling fit function for quadratic basis\n",
    "e = objective(w, x, y, quadratic) # calling objective function for quadratic basis\n",
    "f = prediction(w, x, quadratic) # calling prediction function for quadratic basis\n",
    "\n",
    "\n",
    "\n",
    "plt.plot(x, y, 'rx', label = 'Olympic Data')\n",
    "plt.plot(x, f,'g', label = 'Resulting Prediction')\n",
    "plt.title(\"Error of the fit on Training Data\", loc='center')\n",
    "plt.legend()\n",
    "plt.show()\n",
    "    \n"
   ]
  },
  {
   "cell_type": "markdown",
   "metadata": {},
   "source": [
    "### Hold Out Data\n",
    "\n",
    "You have a conclusion as to which model fits best under the training error, but how do the two models perform in terms of validation? In this section we consider *hold out* validation. In hold out validation we remove a portion of the training data for *validating* the model on. The remaining data is used for fitting the model (training). Because this is a time series prediction, it makes sense for us to hold out data at the end of the time series. This means that we are validating on future predictions. We will hold out data from after 1980 and fit the model to the data before 1980. "
   ]
  },
  {
   "cell_type": "code",
   "execution_count": 7,
   "metadata": {},
   "outputs": [
    {
     "name": "stdout",
     "output_type": "stream",
     "text": [
      "[[1896.]\n",
      " [1900.]\n",
      " [1904.]\n",
      " [1908.]\n",
      " [1912.]\n",
      " [1920.]\n",
      " [1924.]\n",
      " [1928.]\n",
      " [1932.]\n",
      " [1936.]\n",
      " [1948.]\n",
      " [1952.]\n",
      " [1956.]\n",
      " [1960.]\n",
      " [1964.]\n",
      " [1968.]\n",
      " [1972.]\n",
      " [1976.]\n",
      " [1980.]]\n",
      "[[4.47083333]\n",
      " [4.46472926]\n",
      " [5.22208333]\n",
      " [4.15467867]\n",
      " [3.90331675]\n",
      " [3.56951267]\n",
      " [3.82454477]\n",
      " [3.62483707]\n",
      " [3.59284275]\n",
      " [3.53880792]\n",
      " [3.67010309]\n",
      " [3.39029111]\n",
      " [3.43642612]\n",
      " [3.20583008]\n",
      " [3.13275665]\n",
      " [3.32819844]\n",
      " [3.13583758]\n",
      " [3.0789588 ]\n",
      " [3.10581823]]\n",
      "[[1984.]\n",
      " [1988.]\n",
      " [1992.]\n",
      " [1996.]\n",
      " [2000.]\n",
      " [2004.]\n",
      " [2008.]\n",
      " [2012.]]\n",
      "[[3.06552909]\n",
      " [3.09357349]\n",
      " [3.16111704]\n",
      " [3.14255243]\n",
      " [3.08527867]\n",
      " [3.10265829]\n",
      " [2.99877553]\n",
      " [3.03392977]]\n"
     ]
    }
   ],
   "source": [
    "# select indices of data to 'hold out'\n",
    "indices_hold_out = np.flatnonzero(x>1980)\n",
    "\n",
    "# Create a training set\n",
    "x_train = np.delete(x, indices_hold_out, axis=0)\n",
    "y_train = np.delete(y, indices_hold_out, axis=0)\n",
    "\n",
    "# Create a hold out set\n",
    "x_valid = np.take(x, indices_hold_out, axis=0)\n",
    "y_valid = np.take(y, indices_hold_out, axis=0)\n",
    "\n",
    "print(x_train)\n",
    "print(y_train)\n",
    "print(x_valid)\n",
    "print(y_valid)"
   ]
  },
  {
   "cell_type": "markdown",
   "metadata": {},
   "source": [
    "### Assignment Question 3\n",
    "\n",
    "For both the linear and quadratic models, fit the model to the data up until 1980 and then compute the error on the held out data (from 1980 onwards). Which model performs better on the validation data?\n",
    "\n",
    "*10 marks*"
   ]
  },
  {
   "cell_type": "code",
   "execution_count": 10,
   "metadata": {},
   "outputs": [
    {
     "data": {
      "image/png": "[encoded data removed]",
      "text/plain": [
       "<Figure size 432x288 with 1 Axes>"
      ]
     },
     "metadata": {},
     "output_type": "display_data"
    },
    {
     "data": {
      "image/png": "[encoded data removed]",
      "text/plain": [
       "<Figure size 432x288 with 1 Axes>"
      ]
     },
     "metadata": {},
     "output_type": "display_data"
    },
    {
     "name": "stdout",
     "output_type": "stream",
     "text": [
      "Validation error for linear model is  1.9115972526362643\n"
     ]
    },
    {
     "data": {
      "image/png": "[encoded data removed]",
      "text/plain": [
       "<Figure size 432x288 with 1 Axes>"
      ]
     },
     "metadata": {},
     "output_type": "display_data"
    },
    {
     "data": {
      "image/png": "[encoded data removed]",
      "text/plain": [
       "<Figure size 432x288 with 1 Axes>"
      ]
     },
     "metadata": {},
     "output_type": "display_data"
    },
    {
     "name": "stdout",
     "output_type": "stream",
     "text": [
      "Validation error for quadratic model is  0.33750582175260596\n"
     ]
    }
   ],
   "source": [
    "#### Question 3 Answer Code\n",
    "# Write code for you answer to this question in this box\n",
    "# Do not delete these comments, otherwise you will get zero for this answer.\n",
    "# Make sure your code has run and the answer is correct *before* submitting your notebook for marking.\n",
    "\n",
    "import numpy as np\n",
    "\n",
    "# creating the linear model for training data (upto 1980)\n",
    "Phi = linear(x)\n",
    "\n",
    "w = fit(x_train, y_train, linear)\n",
    "e = objective(w, x_train, y_train, linear)\n",
    "f = prediction(w, x_train, linear)\n",
    "\n",
    "# plotting the linear model for training data (upto 1980)\n",
    "plt.plot(x_train, y_train, 'rx', label = 'Olympic Data')\n",
    "plt.plot(x_train, f, 'b', label = 'Resulting Prediction')\n",
    "plt.title(\"Error of the fit on Training Data\", loc='center')\n",
    "plt.legend()\n",
    "plt.show()\n",
    "\n",
    "# creating the linear model for validation data (from 1980 onwards)\n",
    "w = fit(x_train, y_train, linear) # we can only use the fit function w.r.t our training data\n",
    "e = objective(w, x_valid, y_valid, linear)\n",
    "f = prediction(w, x_valid, linear)\n",
    "\n",
    "# plotting the linear model for validation data (from 1980 onwards)\n",
    "plt.plot(x_train, y_train, 'rx', label = 'Olympic Data')\n",
    "plt.plot(x_valid, f, 'b', label = 'Resulting Prediction')\n",
    "plt.title(\"Error of the fit on Validation Data\", loc='center')\n",
    "plt.legend()\n",
    "plt.show()\n",
    "print('Validation error for linear model is ', e)\n",
    "\n",
    "# creating the quadratic model for training data (upto 1980)\n",
    "Phi = quadratic(x)\n",
    "\n",
    "w = fit(x_train, y_train, quadratic)\n",
    "e = objective(w, x_train, y_train, quadratic)\n",
    "f = prediction(w, x_train, quadratic)\n",
    "\n",
    "# plotting the quadratic model for training data (upto 1980)\n",
    "plt.plot(x_train, y_train, 'rx', label = 'Olympic Data')\n",
    "plt.plot(x_train, f, 'g', label = 'Resulting Prediction')\n",
    "plt.title(\"Error of the fit on Training Data\", loc='center')\n",
    "plt.legend()\n",
    "plt.show()\n",
    "\n",
    "# creating the quadratic model for validation data (from 1980 onwards)\n",
    "w = fit(x_train, y_train, quadratic)\n",
    "e = objective(w, x_valid, y_valid, quadratic)\n",
    "f = prediction(w, x_valid, quadratic)\n",
    "\n",
    "# creating the quadratic model for validation data (from 1980 onwards)\n",
    "plt.plot(x_valid, y_valid, 'rx', label = 'Olympic Data')\n",
    "plt.plot(x_valid, f, 'g', label = 'Resulting Prediction')\n",
    "plt.title(\"Error of the fit on Validation Data\", loc='center')\n",
    "plt.legend()\n",
    "plt.show()\n",
    "print('Validation error for quadratic model is ', e)"
   ]
  },
  {
   "cell_type": "markdown",
   "metadata": {},
   "source": [
    "#### Answer Question 3\n",
    "\n",
    "We can observe that the Quadratic model performs better on the validation data as the error is lower than that of linear model  which we can see from the above result:\n",
    "\n",
    "Validation error for linear model is  1.9115972526362643  \n",
    "Validation error for quadratic model is  0.33750582175260596"
   ]
  },
  {
   "cell_type": "markdown",
   "metadata": {},
   "source": [
    "### Richer Basis Set\n",
    "\n",
    "Now we have an approach for deciding which model to retain, we can consider the entire family of polynomial bases, with arbitrary degrees.  "
   ]
  },
  {
   "cell_type": "markdown",
   "metadata": {},
   "source": [
    "### Assignment Question 4\n",
    "\n",
    "Now we are going to build a more sophisticated form of basis function, one that can accept arguments to its inputs (similar to those we used in the lab for week 4). Here we will start with a polynomial basis.\n",
    "\n",
    "```python\n",
    "def polynomial(x, degree, loc, scale):\n",
    "    degrees = np.arange(degree+1)\n",
    "    return ((x-loc)/scale)**degrees\n",
    "```\n",
    "The basis as we've defined it has three arguments as well as the input. The degree of the polynomial, the scale of the polynomial and the offset. These arguments need to be passed to the basis functions whenever they are called. Modify your code to pass these additional arguments to the python function for creating the basis. Do this for each of your functions `predict`, `fit` and `objective`. You will find `*args` (or `**kwargs`) useful.\n",
    "\n",
    "Write code that tries to fit different models to the data with polynomial basis. Use a maximum degree for your basis from 0 to 17. For each polynomial store the *hold out validation error* and the *training error*. When you have finished the computation plot the hold out error for your models and the training error for your p. When computing your polynomial basis use `offset=1956.` and `scale=120.` to ensure that the data is mapped (roughly) to the -1, 1 range.\n",
    "\n",
    "Which polynomial has the minimum training error? Which polynomial has the minimum validation error?\n",
    "\n",
    "*25 marks*"
   ]
  },
  {
   "cell_type": "code",
   "execution_count": 11,
   "metadata": {},
   "outputs": [
    {
     "data": {
      "image/png": "[encoded data removed]",
      "text/plain": [
       "<Figure size 432x288 with 1 Axes>"
      ]
     },
     "metadata": {},
     "output_type": "display_data"
    },
    {
     "data": {
      "image/png": "[encoded data removed]",
      "text/plain": [
       "<Figure size 432x288 with 1 Axes>"
      ]
     },
     "metadata": {},
     "output_type": "display_data"
    }
   ],
   "source": [
    "#### Question 4 Answer Code\n",
    "# Write code for you answer to this question in this box\n",
    "# Do not delete these comments, otherwise you will get zero for this answer.\n",
    "# Make sure your code has run and the answer is correct *before* submitting your notebook for marking.\n",
    "\n",
    "# creating the polynomial basis\n",
    "def polynomial(x, degree, offset, scale):\n",
    "    degrees = np.arange(degree+1)\n",
    "    return ((x-offset)/scale)**degrees\n",
    "\n",
    "# defining the 'fit' function that solves the polynomial system\n",
    "def fit(x, y, func_type, **kwargs):\n",
    "    Phi = func_type(x, **kwargs)\n",
    "    Q, R = np.linalg.qr(Phi)\n",
    "    w = sp.linalg.solve_triangular(R, np.dot(Q.T, y)) \n",
    "    return w\n",
    "\n",
    "#defining the 'objective' function that computes error function for polynomial basis\n",
    "def objective(w, x, y, func_type, **kwargs):\n",
    "    Phi = func_type(x, **kwargs)\n",
    "    Y_prediction = np.matmul(Phi,w)\n",
    "    error = y - Y_prediction\n",
    "    squared_error = np.square(error).sum()\n",
    "    return squared_error\n",
    "\n",
    "#defining the 'prediction' function for polynomial basis\n",
    "def prediction(w,  x, func_type, **kwargs):\n",
    "    Phi = func_type(x, **kwargs)\n",
    "    f = np.dot(Phi, w)\n",
    "    return f\n",
    "\n",
    "error_train = [] # initiasing a variable to store our training error\n",
    "error_valid = [] # initiasing a variable to store our validation error\n",
    "\n",
    "\n",
    "\n",
    "range_given = 18 # as the polynomial degree lies between 0 and 17\n",
    "for k in range(range_given):\n",
    "    w = fit(x_train, y_train, func_type = polynomial, degree = k, offset = 1956, scale = 120)\n",
    "    e = objective(w, x_train, y_train, func_type = polynomial, degree = k, offset = 1956, scale = 120)\n",
    "    error_train = np.append(error_train, e)\n",
    "    e = objective(w, x_valid, y_valid, func_type = polynomial, degree = k, offset = 1956, scale = 120)\n",
    "    error_valid = np.append(error_valid, e)\n",
    "\n",
    "\n",
    "plt.plot(error_train, label = \"Training Error\")\n",
    "plt.title(\"Error of the fit on Training Data for Polynomial\", loc='center')\n",
    "plt.legend()\n",
    "plt.show()\n",
    "\n",
    "plt.plot(error_valid, 'r', label = 'Hold Out Validation Error')\n",
    "plt.title(\"Error of the fit on Validation Data for Polynomial\", loc='center')   \n",
    "plt.legend()\n",
    "plt.show()\n",
    "    "
   ]
  },
  {
   "cell_type": "code",
   "execution_count": 12,
   "metadata": {},
   "outputs": [
    {
     "name": "stdout",
     "output_type": "stream",
     "text": [
      "The degree of polynomial with the lowest training error is 17\n",
      "The degree of polynomial with the lowest validation error is 2\n"
     ]
    }
   ],
   "source": [
    "error_train_min = min(error_train)\n",
    "error_train_min_poly=list(error_train).index(error_train_min)\n",
    "print('The degree of polynomial with the lowest training error is', error_train_min_poly)\n",
    "\n",
    "error_valid_min = min(error_valid)\n",
    "error_valid_min_poly=list(error_valid).index(error_valid_min)\n",
    "print('The degree of polynomial with the lowest validation error is', error_valid_min_poly)"
   ]
  },
  {
   "cell_type": "markdown",
   "metadata": {},
   "source": [
    "#### Answer Question 4\n",
    "\n",
    "Polynomial of degree 17 has the minimum training error.  \n",
    "Polynomial of degree 2 has the minimum validation error."
   ]
  },
  {
   "cell_type": "markdown",
   "metadata": {},
   "source": [
    "## Leave One Out Validation\n",
    "\n",
    "Hold out validation uses a portion of the data to hold out and a portion of the data to train on. There is always a compromise between how much data to hold out and how much data to train on. The more data you hold out, the better the estimate of your performance at 'run-time' (when the model is used to make predictions in real applications). However, by holding out more data, you leave less data to train on, so you have a better validation, but a poorer quality model fit than you could have had if you'd used all the data for training. Leave one out cross validation leaves as much data in the training phase as possible: you only take *one point* out for your validation set. However, if you do this for hold-out validation, then the quality of your validation error is very poor because you are testing the model quality on one point only. In *cross validation* the approach is to improve this estimate by doing more than one model fit. In *leave one out cross validation* you fit $n$ different models, where $n$ is the number of your data. For each model fit you take out one data point, and train the model on the remaining $n-1$ data points. You validate the model on the data point you've held out, but you do this $n$ times, once for each different model. You then take the *average* of all the $n$ badly estimated hold out validation errors. The average of this estimate is a good estimate of performance of those models on the test data. "
   ]
  },
  {
   "cell_type": "markdown",
   "metadata": {},
   "source": [
    "### Assignment Question 5\n",
    "\n",
    "Write code that computes the *leave one out* validation error for the olympic data and the polynomial basis. Use the functions you have created above: `objective`, `fit`, `polynomial`. Compute the *leave-one-out* cross validation error for basis functions containing a maximum degree from 0 to 17.\n",
    "\n",
    "*20 marks*"
   ]
  },
  {
   "cell_type": "code",
   "execution_count": 13,
   "metadata": {},
   "outputs": [
    {
     "name": "stdout",
     "output_type": "stream",
     "text": [
      "Leave-one-out cross validation error is 0.30842185811342154 for degree 0\n",
      "Leave-one-out cross validation error is 0.09060070811331185 for degree 1\n",
      "Leave-one-out cross validation error is 0.057949923907187215 for degree 2\n",
      "Leave-one-out cross validation error is 0.05980705065952668 for degree 3\n",
      "Leave-one-out cross validation error is 0.06927418750452118 for degree 4\n",
      "Leave-one-out cross validation error is 0.08836110586518016 for degree 5\n",
      "Leave-one-out cross validation error is 0.08192830194857731 for degree 6\n",
      "Leave-one-out cross validation error is 0.05811513376168532 for degree 7\n",
      "Leave-one-out cross validation error is 0.12260215723052162 for degree 8\n",
      "Leave-one-out cross validation error is 0.37178792588620835 for degree 9\n",
      "Leave-one-out cross validation error is 1.0449075827291532 for degree 10\n",
      "Leave-one-out cross validation error is 2.5644046516562193 for degree 11\n",
      "Leave-one-out cross validation error is 5.459390478064491 for degree 12\n",
      "Leave-one-out cross validation error is 8.31901075217805 for degree 13\n",
      "Leave-one-out cross validation error is 5.055256254882436 for degree 14\n",
      "Leave-one-out cross validation error is 31.7922798895439 for degree 15\n",
      "Leave-one-out cross validation error is 111.92585326831005 for degree 16\n",
      "Leave-one-out cross validation error is 447.84683638591997 for degree 17\n"
     ]
    },
    {
     "data": {
      "text/plain": [
       "[]"
      ]
     },
     "execution_count": 13,
     "metadata": {},
     "output_type": "execute_result"
    },
    {
     "data": {
      "image/png": "[encoded data removed]",
      "text/plain": [
       "<Figure size 432x288 with 1 Axes>"
      ]
     },
     "metadata": {},
     "output_type": "display_data"
    }
   ],
   "source": [
    "#### Question 5 Answer Code\n",
    "# Write code for you answer to this question in this box\n",
    "# Do not delete these comments, otherwise you will get zero for this answer.\n",
    "# Make sure your code has run and the answer is correct *before* submitting your notebook for marking.\n",
    "\n",
    "\n",
    "leave_one_out_error =  [] # initialising a variable for our leave-one-out error\n",
    "\n",
    "range_poly = 18 # setting our range\n",
    "n = x.shape[0]\n",
    "for k in range(range_poly):\n",
    "    error_cv = [] # initialising an error variable\n",
    "    for m in range(n):\n",
    "        # Create a training set\n",
    "        x_train = np.delete(x, m, axis=0)\n",
    "        y_train = np.delete(y, m, axis=0)\n",
    "\n",
    "        # Create a hold out set\n",
    "        x_valid = np.take(x, m, axis=0)\n",
    "        y_valid = np.take(y, m, axis=0)\n",
    "        \n",
    "        w = fit(x_train, y_train, func_type = polynomial, degree = k, offset = 1956, scale = 120)\n",
    "        e = objective(w, x_valid, y_valid, func_type = polynomial, degree = k, offset = 1956, scale = 120)\n",
    "        \n",
    "        error_cv = np.append(error_cv, e) # appending the errors\n",
    "        \n",
    "    error_cv_sum = np.sum(error_cv) # summing the error\n",
    "    error_cv_avg = error_cv_sum/n # averaging the error\n",
    "    print(\"Leave-one-out cross validation error is\", error_cv_avg, \"for degree\", k)\n",
    "    leave_one_out_error = np.append(leave_one_out_error, error_cv_avg)\n",
    "\n",
    "\n",
    "\n",
    "# plotting the graph\n",
    "ax = plt.gca()   \n",
    "ax.set_xlim(0,17)\n",
    "plt.plot(leave_one_out_error, label = 'Leave One Out Error')\n",
    "plt.title(\"Leave One Out Error for Polynomial\", loc='center')\n",
    "plt.legend()\n",
    "plt.plot()\n"
   ]
  },
  {
   "cell_type": "markdown",
   "metadata": {},
   "source": [
    "## $k$-fold Cross Validation\n",
    "\n",
    "Leave one out cross validation produces a very good estimate of the performance at test time, and is particularly useful if you don't have a lot of data. In these cases you need to make as much use of your data for model fitting as possible, and having a large hold out data set (to validate model performance) can have a significant effect on the size of the data set you have to fit your model, and correspondingly, the complexity of the model you can fit. However, leave one out cross validation involves fitting $n$ models, where $n$ is your number of training data. For the olympics example, this is only 27 model fits, but in practice many data sets consist thousands or millions of data points, and fitting many millions of models for estimating validation error isn't really practical. One option is to return to *hold out* validation, but another approach is to perform $k$-fold cross validation. In $k$-fold cross validation you split your data into $k$ parts. Then you use $k-1$ of those parts for training, and hold out one part for validation. Just like we did for the hold out validation above. In *cross* validation, however, you repeat this process. You swap the part of the data you just used for validation back in to the training set and select another part for validation. You then fit the model to the new training data and validate on the portion of data you've just extracted. Each split of training/validation data is called a *fold* and since you do this process $k$ times, the procedure is known as $k$-fold cross validation. The term *cross* refers to the fact that you cross over your validation portion back into the training data every time you perform a fold.  "
   ]
  },
  {
   "cell_type": "markdown",
   "metadata": {},
   "source": [
    "### Assignment Question 6\n",
    "\n",
    "Perform $k$-fold cross validation on the olympic data with your polynomial basis. Use $k$ set to 5 (e.g. five fold cross validation). Do the different forms of validation select different models? Does five fold cross validation always select the same model?\n",
    "\n",
    "*20 marks*"
   ]
  },
  {
   "cell_type": "markdown",
   "metadata": {},
   "source": [
    "*Note*: The data doesn't divide into 5 equal size partitions for the five fold cross validation error. Don't worry about this too much. Two of the partitions will have an extra data point. You might find `np.random.permutation?` useful."
   ]
  },
  {
   "cell_type": "code",
   "execution_count": 14,
   "metadata": {},
   "outputs": [
    {
     "name": "stdout",
     "output_type": "stream",
     "text": [
      "K-Fold cross validation error is 1.6043101171833498 for degree 0\n",
      "K-Fold cross validation error is 0.43262953859301484 for degree 1\n",
      "K-Fold cross validation error is 0.2938149204795748 for degree 2\n",
      "K-Fold cross validation error is 0.33401215017541447 for degree 3\n",
      "K-Fold cross validation error is 0.3618195158932832 for degree 4\n",
      "K-Fold cross validation error is 0.4230281257384946 for degree 5\n",
      "K-Fold cross validation error is 0.4342046335282131 for degree 6\n",
      "K-Fold cross validation error is 0.3840033695259947 for degree 7\n",
      "K-Fold cross validation error is 0.8887632767373717 for degree 8\n",
      "K-Fold cross validation error is 2.6877011327934857 for degree 9\n",
      "K-Fold cross validation error is 7.053344030927346 for degree 10\n",
      "K-Fold cross validation error is 11.009711928549626 for degree 11\n",
      "K-Fold cross validation error is 25.27607077156061 for degree 12\n",
      "K-Fold cross validation error is 39.609822538711896 for degree 13\n",
      "K-Fold cross validation error is 126.50589694671189 for degree 14\n",
      "K-Fold cross validation error is 254.94434455978634 for degree 15\n",
      "K-Fold cross validation error is 859.44372427428 for degree 16\n",
      "K-Fold cross validation error is 911.1999177429088 for degree 17\n"
     ]
    },
    {
     "data": {
      "text/plain": [
       "[]"
      ]
     },
     "execution_count": 14,
     "metadata": {},
     "output_type": "execute_result"
    },
    {
     "data": {
      "image/png": "[encoded data removed]",
      "text/plain": [
       "<Figure size 432x288 with 1 Axes>"
      ]
     },
     "metadata": {},
     "output_type": "display_data"
    }
   ],
   "source": [
    "#### Question 6 Answer Code\n",
    "# Write code for you answer to this question in this box\n",
    "# Do not delete these comments, otherwise you will get zero for this answer.\n",
    "# Make sure your code has run and the answer is correct *before* submitting your notebook for marking.\n",
    "\n",
    "\n",
    "array = np.random.permutation(27) # permutation operation\n",
    "perm_set = np.split(array,[5, 10, 16, 21, 27]) # splitting the array in to sub-arrays\n",
    "\n",
    "# initialising error variables\n",
    "\n",
    "kfold_error = []\n",
    "k = 5\n",
    "\n",
    "for i in range(0, 18):\n",
    "    error_k = [] \n",
    "    for j in range(0, k):\n",
    "        # Create a training set\n",
    "        x_train = np.delete(x, perm_set[j], axis=0)\n",
    "        y_train = np.delete(y, perm_set[j], axis=0)\n",
    "\n",
    "        # Create a hold out set\n",
    "        x_valid = np.take(x, perm_set[j], axis=0)\n",
    "        y_valid = np.take(y, perm_set[j], axis=0)\n",
    "\n",
    "        \n",
    "        w = fit(x_train, y_train, func_type = polynomial, degree = i, offset = 1956, scale = 120)\n",
    "        e = objective(w, x_valid, y_valid, func_type = polynomial, degree = i, offset = 1956, scale = 120)\n",
    "        \n",
    "        error_k = np.append(error_k, e)\n",
    "    \n",
    "    error_kfold_sum = np.sum(error_k)\n",
    "    error_kfold_avg = error_kfold_sum/k\n",
    "    print(\"K-Fold cross validation error is\", error_kfold_avg, \"for degree\", i)\n",
    "    kfold_error = np.append(kfold_error, error_kfold_avg)\n",
    "\n",
    "# plotting the graph\n",
    "ax = plt.gca()   \n",
    "ax.set_xlim(0,17)\n",
    "plt.plot(kfold_error, 'orange', label = 'K Fold Error')\n",
    "plt.title(\"K Fold Cross Validation Error for Polynomial\", loc='center')\n",
    "plt.legend()\n",
    "plt.plot()  \n"
   ]
  },
  {
   "cell_type": "markdown",
   "metadata": {},
   "source": [
    "#### Answer Question 6\n",
    "\n",
    "We can see that the error for Leave-one-out cross validation for polynomial of degree 2 is the lowest and the error for K-Fold cross validation for polynomial of degree 2 is the lowest. Hence, we can say that the different forms of validation select the same model if K-Fold cross validation data is not randomised.\n",
    "\n",
    "As five fold cross validation has randomised data, we will get different values of error for different runs. Hence it always selects different models."
   ]
  }
 ],
 "metadata": {
  "kernelspec": {
   "display_name": "Python 3",
   "language": "python",
   "name": "python3"
  },
  "language_info": {
   "codemirror_mode": {
    "name": "ipython",
    "version": 3
   },
   "file_extension": ".py",
   "mimetype": "text/x-python",
   "name": "python",
   "nbconvert_exporter": "python",
   "pygments_lexer": "ipython3",
   "version": "3.7.2"
  }
 },
 "nbformat": 4,
 "nbformat_minor": 1
}
